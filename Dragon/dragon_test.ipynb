{
 "cells": [
  {
   "attachments": {},
   "cell_type": "markdown",
   "metadata": {},
   "source": [
    "# Dragon Test:"
   ]
  },
  {
   "cell_type": "code",
   "execution_count": 4,
   "metadata": {},
   "outputs": [
    {
     "name": "stderr",
     "output_type": "stream",
     "text": [
      "Some weights of BertForSequenceClassification were not initialized from the model checkpoint at bert-base-multilingual-cased and are newly initialized: ['classifier.bias', 'classifier.weight']\n",
      "You should probably TRAIN this model on a down-stream task to be able to use it for predictions and inference.\n"
     ]
    },
    {
     "name": "stdout",
     "output_type": "stream",
     "text": [
      "Loss: tensor(0.3859)\n",
      "Logits per head:\n",
      "Head 1 logits: tensor([[0.5549, 0.4451]])\n",
      "Head 2 logits: tensor([[0.2881, 0.3753, 0.3365]])\n",
      "Head 3 logits: tensor([[0.3876, 0.2133, 0.2071, 0.1920]])\n"
     ]
    }
   ],
   "source": [
    "import torch\n",
    "from transformers import AutoTokenizer\n",
    "from dragon_baseline.architectures.clf_multi_head import (\n",
    "    AutoModelForMultiHeadSequenceClassification,\n",
    "    AutoModelForMultiHeadSequenceClassificationConfig)\n",
    "\n",
    "\n",
    "model_name = \"bert-base-multilingual-cased\"\n",
    "num_classes_per_label = [2, 3, 4]  \n",
    "\n",
    "config = AutoModelForMultiHeadSequenceClassificationConfig(\n",
    "    pretrained_model_name_or_path=model_name,\n",
    "    num_classes_per_label=num_classes_per_label,)\n",
    "model = AutoModelForMultiHeadSequenceClassification(config)\n",
    "\n",
    "tokenizer = AutoTokenizer.from_pretrained(model_name)\n",
    "batch = tokenizer([\"This is a test sentence and just randomly used to check the performance.\"], return_tensors=\"pt\", padding=True, truncation=True)\n",
    "\n",
    "labels = torch.tensor([[1, 2, 2]])\n",
    "model.eval()\n",
    "with torch.no_grad():\n",
    "    outputs = model(**batch, labels=labels)\n",
    "\n",
    "print(\"Loss:\", outputs.loss)\n",
    "print(\"Logits per head:\")\n",
    "for i, head_logits in enumerate(outputs.logits):\n",
    "    # print(f\"Head {i+1} logits:\", head_logits)\n",
    "    probs = torch.softmax(head_logits, dim=1)\n",
    "    print(f\"Head {i+1} logits:\", probs)\n"
   ]
  },
  {
   "cell_type": "code",
   "execution_count": 5,
   "metadata": {},
   "outputs": [
    {
     "name": "stderr",
     "output_type": "stream",
     "text": [
      "Some weights of BertForTokenClassification were not initialized from the model checkpoint at bert-base-multilingual-cased and are newly initialized: ['classifier.bias', 'classifier.weight']\n",
      "You should probably TRAIN this model on a down-stream task to be able to use it for predictions and inference.\n"
     ]
    },
    {
     "name": "stdout",
     "output_type": "stream",
     "text": [
      "\n",
      "Token predictions (multi-label):\n",
      "[CLS]           → ['Label 2']\n",
      "Obama           → ['Label 0', 'Label 2']\n",
      "visited         → ['Label 2']\n",
      "headquarters    → ['Label 2']\n",
      "in              → ['Label 1', 'Label 2']\n",
      "Seattle         → ['Label 1']\n",
      ".               → ['Label 2']\n",
      "[SEP]           → ['Label 2']\n"
     ]
    }
   ],
   "source": [
    "import torch\n",
    "from transformers import AutoTokenizer\n",
    "from dragon_baseline.architectures.ner_multi_head import AutoModelForMultiHeadTokenClassification, AutoModelForMultiHeadTokenClassificationConfig\n",
    "import numpy as np\n",
    "\n",
    "config = AutoModelForMultiHeadTokenClassificationConfig(\n",
    "    pretrained_model_name_or_path=\"bert-base-multilingual-cased\",\n",
    "    num_labels=3  # For example: Person, Organization, Location\n",
    ")\n",
    "model = AutoModelForMultiHeadTokenClassification(config)\n",
    "model.eval()\n",
    "\n",
    "\n",
    "tokenizer = AutoTokenizer.from_pretrained(\"bert-base-multilingual-cased\")\n",
    "text = \"Barack Obama visited Microsoft headquarters in Seattle.\"\n",
    "inputs = tokenizer(text, return_tensors=\"pt\", truncation=True, padding=True)\n",
    "\n",
    "with torch.no_grad():\n",
    "    outputs = model(**inputs)\n",
    "    logits = outputs.logits\n",
    "    probs = torch.sigmoid(logits)\n",
    "    preds = (probs > 0.5).long()\n",
    "\n",
    "tokens = tokenizer.convert_ids_to_tokens(inputs[\"input_ids\"][0])\n",
    "id2label = model.id2label\n",
    "\n",
    "print(\"\\nToken predictions (multi-label):\")\n",
    "for i, token in enumerate(tokens):\n",
    "    pred_vec = preds[0][i].tolist()\n",
    "    if any(pred_vec):\n",
    "        label_info = [f\"Label {j}\" for j, val in enumerate(pred_vec) if val == 1]\n",
    "        print(f\"{token:15} → {label_info}\")\n"
   ]
  },
  {
   "cell_type": "code",
   "execution_count": 6,
   "metadata": {},
   "outputs": [
    {
     "name": "stderr",
     "output_type": "stream",
     "text": [
      "Some weights of BertForSequenceClassification were not initialized from the model checkpoint at bert-base-multilingual-cased and are newly initialized: ['classifier.bias', 'classifier.weight']\n",
      "You should probably TRAIN this model on a down-stream task to be able to use it for predictions and inference.\n"
     ]
    },
    {
     "name": "stdout",
     "output_type": "stream",
     "text": [
      "Logits:\n",
      " tensor([[ 0.0093, -0.3596,  0.0265],\n",
      "        [ 0.0021, -0.2745, -0.0995]])\n",
      "\n",
      "Loss: tensor(0.9445)\n"
     ]
    }
   ],
   "source": [
    "import torch\n",
    "from transformers import AutoTokenizer\n",
    "from dragon_baseline.architectures.reg_multi_head import AutoModelForMultiHeadSequenceRegression, AutoModelForMultiHeadSequenceRegressionConfig\n",
    "\n",
    "tokenizer = AutoTokenizer.from_pretrained(\"bert-base-multilingual-cased\")\n",
    "texts = [\"This is a test sentence.\", \"Here is another one.\"]\n",
    "inputs = tokenizer(texts, padding=True, truncation=True, return_tensors=\"pt\")\n",
    "\n",
    "num_labels = 3\n",
    "labels = torch.tensor([[0.5, float('nan'), 1.0], [1.2, 0.8, float('nan')]], dtype=torch.float)\n",
    "config = AutoModelForMultiHeadSequenceRegressionConfig(\n",
    "    pretrained_model_name_or_path=\"bert-base-multilingual-cased\",\n",
    "    num_labels=num_labels,\n",
    "    filter_targets=True)\n",
    "model = AutoModelForMultiHeadSequenceRegression(config)\n",
    "model.eval()\n",
    "\n",
    "with torch.no_grad():\n",
    "    output = model(\n",
    "        input_ids=inputs[\"input_ids\"],\n",
    "        attention_mask=inputs[\"attention_mask\"],\n",
    "        labels=labels,\n",
    "        return_dict=True)\n",
    "\n",
    "print(\"Logits:\\n\", output.logits)\n",
    "print(\"\\nLoss:\", output.loss)"
   ]
  }
 ],
 "metadata": {
  "kernelspec": {
   "display_name": "temp",
   "language": "python",
   "name": "python3"
  },
  "language_info": {
   "codemirror_mode": {
    "name": "ipython",
    "version": 3
   },
   "file_extension": ".py",
   "mimetype": "text/x-python",
   "name": "python",
   "nbconvert_exporter": "python",
   "pygments_lexer": "ipython3",
   "version": "3.13.2"
  },
  "orig_nbformat": 4
 },
 "nbformat": 4,
 "nbformat_minor": 2
}
